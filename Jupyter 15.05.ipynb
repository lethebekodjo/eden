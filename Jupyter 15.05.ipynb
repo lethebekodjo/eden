{
    "cells": [
        {
            "cell_type": "markdown",
            "metadata": {},
            "source": "VENDOR ANALYSIS"
        },
        {
            "cell_type": "code",
            "execution_count": 1,
            "metadata": {},
            "outputs": [
                {
                    "data": {
                        "text/html": "<div>\n<style scoped>\n    .dataframe tbody tr th:only-of-type {\n        vertical-align: middle;\n    }\n\n    .dataframe tbody tr th {\n        vertical-align: top;\n    }\n\n    .dataframe thead th {\n        text-align: right;\n    }\n</style>\n<table border=\"1\" class=\"dataframe\">\n  <thead>\n    <tr style=\"text-align: right;\">\n      <th></th>\n      <th>VENDOR</th>\n      <th>STMNT DATE</th>\n      <th>INVOICE DATE</th>\n      <th>BRANCH CODE</th>\n      <th>ORDER NUMBER</th>\n      <th>INVOICE NUMBER</th>\n      <th>INVOICE AMOUNT</th>\n    </tr>\n  </thead>\n  <tbody>\n    <tr>\n      <th>0</th>\n      <td>NaN</td>\n      <td>NaN</td>\n      <td>NaN</td>\n      <td>NaN</td>\n      <td>NaN</td>\n      <td>NaN</td>\n      <td>NaN</td>\n    </tr>\n    <tr>\n      <th>1</th>\n      <td>101035.0</td>\n      <td>30.06.18</td>\n      <td>15.05.18</td>\n      <td>2483.0</td>\n      <td>724341.0</td>\n      <td>5165.0</td>\n      <td>2,133.60</td>\n    </tr>\n    <tr>\n      <th>2</th>\n      <td>101035.0</td>\n      <td>30.06.18</td>\n      <td>15.05.18</td>\n      <td>2494.0</td>\n      <td>724206.0</td>\n      <td>5238.0</td>\n      <td>4,388.16</td>\n    </tr>\n    <tr>\n      <th>3</th>\n      <td>101035.0</td>\n      <td>30.06.18</td>\n      <td>15.05.18</td>\n      <td>2496.0</td>\n      <td>724206.0</td>\n      <td>5238.0</td>\n      <td>6,538.56</td>\n    </tr>\n    <tr>\n      <th>4</th>\n      <td>101035.0</td>\n      <td>30.06.18</td>\n      <td>15.05.18</td>\n      <td>2498.0</td>\n      <td>724206.0</td>\n      <td>5165.0</td>\n      <td>7,030.24</td>\n    </tr>\n  </tbody>\n</table>\n</div>",
                        "text/plain": "     VENDOR STMNT DATE INVOICE DATE  BRANCH CODE  ORDER NUMBER  \\\n0       NaN        NaN          NaN          NaN           NaN   \n1  101035.0   30.06.18     15.05.18       2483.0      724341.0   \n2  101035.0   30.06.18     15.05.18       2494.0      724206.0   \n3  101035.0   30.06.18     15.05.18       2496.0      724206.0   \n4  101035.0   30.06.18     15.05.18       2498.0      724206.0   \n\n   INVOICE NUMBER INVOICE AMOUNT  \n0             NaN            NaN  \n1          5165.0       2,133.60  \n2          5238.0       4,388.16  \n3          5238.0       6,538.56  \n4          5165.0       7,030.24  "
                    },
                    "execution_count": 1,
                    "metadata": {},
                    "output_type": "execute_result"
                }
            ],
            "source": "# The code was removed by Watson Studio for sharing."
        },
        {
            "cell_type": "code",
            "execution_count": null,
            "metadata": {},
            "outputs": [],
            "source": ""
        }
    ],
    "metadata": {
        "kernelspec": {
            "display_name": "Python 3.9",
            "language": "python",
            "name": "python3"
        },
        "language_info": {
            "codemirror_mode": {
                "name": "ipython",
                "version": 3
            },
            "file_extension": ".py",
            "mimetype": "text/x-python",
            "name": "python",
            "nbconvert_exporter": "python",
            "pygments_lexer": "ipython3",
            "version": "3.9.7"
        }
    },
    "nbformat": 4,
    "nbformat_minor": 1
}